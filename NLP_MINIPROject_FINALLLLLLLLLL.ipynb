{
  "nbformat": 4,
  "nbformat_minor": 0,
  "metadata": {
    "colab": {
      "provenance": [],
      "collapsed_sections": []
    },
    "kernelspec": {
      "name": "python3",
      "display_name": "Python 3"
    },
    "language_info": {
      "name": "python"
    },
    "widgets": {
      "application/vnd.jupyter.widget-state+json": {
        "37f01a207674464e8e6361a0ad191f7e": {
          "model_module": "@jupyter-widgets/controls",
          "model_name": "HBoxModel",
          "model_module_version": "1.5.0",
          "state": {
            "_dom_classes": [],
            "_model_module": "@jupyter-widgets/controls",
            "_model_module_version": "1.5.0",
            "_model_name": "HBoxModel",
            "_view_count": null,
            "_view_module": "@jupyter-widgets/controls",
            "_view_module_version": "1.5.0",
            "_view_name": "HBoxView",
            "box_style": "",
            "children": [
              "IPY_MODEL_c8762f5f6cc940fea23ff562f186c941",
              "IPY_MODEL_c2977116a363418c9f4342e488ea484b",
              "IPY_MODEL_516f79674c0b4183b15effd6833a0b85"
            ],
            "layout": "IPY_MODEL_c57e88efdde54afbbd2ec8c6e072ff3f"
          }
        },
        "c8762f5f6cc940fea23ff562f186c941": {
          "model_module": "@jupyter-widgets/controls",
          "model_name": "HTMLModel",
          "model_module_version": "1.5.0",
          "state": {
            "_dom_classes": [],
            "_model_module": "@jupyter-widgets/controls",
            "_model_module_version": "1.5.0",
            "_model_name": "HTMLModel",
            "_view_count": null,
            "_view_module": "@jupyter-widgets/controls",
            "_view_module_version": "1.5.0",
            "_view_name": "HTMLView",
            "description": "",
            "description_tooltip": null,
            "layout": "IPY_MODEL_6376849b7a154a4ca407d27bf041b943",
            "placeholder": "​",
            "style": "IPY_MODEL_f0dafaab6e954a2080c77fd69e435480",
            "value": "Downloading https://raw.githubusercontent.com/stanfordnlp/stanza-resources/main/resources_1.4.1.json: "
          }
        },
        "c2977116a363418c9f4342e488ea484b": {
          "model_module": "@jupyter-widgets/controls",
          "model_name": "FloatProgressModel",
          "model_module_version": "1.5.0",
          "state": {
            "_dom_classes": [],
            "_model_module": "@jupyter-widgets/controls",
            "_model_module_version": "1.5.0",
            "_model_name": "FloatProgressModel",
            "_view_count": null,
            "_view_module": "@jupyter-widgets/controls",
            "_view_module_version": "1.5.0",
            "_view_name": "ProgressView",
            "bar_style": "success",
            "description": "",
            "description_tooltip": null,
            "layout": "IPY_MODEL_89f75473f36e42e6a3a47ebe11adc031",
            "max": 28896,
            "min": 0,
            "orientation": "horizontal",
            "style": "IPY_MODEL_5c9955a2af2a46fd9d0f85d76e733ae8",
            "value": 28896
          }
        },
        "516f79674c0b4183b15effd6833a0b85": {
          "model_module": "@jupyter-widgets/controls",
          "model_name": "HTMLModel",
          "model_module_version": "1.5.0",
          "state": {
            "_dom_classes": [],
            "_model_module": "@jupyter-widgets/controls",
            "_model_module_version": "1.5.0",
            "_model_name": "HTMLModel",
            "_view_count": null,
            "_view_module": "@jupyter-widgets/controls",
            "_view_module_version": "1.5.0",
            "_view_name": "HTMLView",
            "description": "",
            "description_tooltip": null,
            "layout": "IPY_MODEL_46874339cb604a62be80b727f635c2bd",
            "placeholder": "​",
            "style": "IPY_MODEL_11fbcca5f7a147199497032f29851e87",
            "value": " 192k/? [00:00&lt;00:00, 4.30MB/s]"
          }
        },
        "c57e88efdde54afbbd2ec8c6e072ff3f": {
          "model_module": "@jupyter-widgets/base",
          "model_name": "LayoutModel",
          "model_module_version": "1.2.0",
          "state": {
            "_model_module": "@jupyter-widgets/base",
            "_model_module_version": "1.2.0",
            "_model_name": "LayoutModel",
            "_view_count": null,
            "_view_module": "@jupyter-widgets/base",
            "_view_module_version": "1.2.0",
            "_view_name": "LayoutView",
            "align_content": null,
            "align_items": null,
            "align_self": null,
            "border": null,
            "bottom": null,
            "display": null,
            "flex": null,
            "flex_flow": null,
            "grid_area": null,
            "grid_auto_columns": null,
            "grid_auto_flow": null,
            "grid_auto_rows": null,
            "grid_column": null,
            "grid_gap": null,
            "grid_row": null,
            "grid_template_areas": null,
            "grid_template_columns": null,
            "grid_template_rows": null,
            "height": null,
            "justify_content": null,
            "justify_items": null,
            "left": null,
            "margin": null,
            "max_height": null,
            "max_width": null,
            "min_height": null,
            "min_width": null,
            "object_fit": null,
            "object_position": null,
            "order": null,
            "overflow": null,
            "overflow_x": null,
            "overflow_y": null,
            "padding": null,
            "right": null,
            "top": null,
            "visibility": null,
            "width": null
          }
        },
        "6376849b7a154a4ca407d27bf041b943": {
          "model_module": "@jupyter-widgets/base",
          "model_name": "LayoutModel",
          "model_module_version": "1.2.0",
          "state": {
            "_model_module": "@jupyter-widgets/base",
            "_model_module_version": "1.2.0",
            "_model_name": "LayoutModel",
            "_view_count": null,
            "_view_module": "@jupyter-widgets/base",
            "_view_module_version": "1.2.0",
            "_view_name": "LayoutView",
            "align_content": null,
            "align_items": null,
            "align_self": null,
            "border": null,
            "bottom": null,
            "display": null,
            "flex": null,
            "flex_flow": null,
            "grid_area": null,
            "grid_auto_columns": null,
            "grid_auto_flow": null,
            "grid_auto_rows": null,
            "grid_column": null,
            "grid_gap": null,
            "grid_row": null,
            "grid_template_areas": null,
            "grid_template_columns": null,
            "grid_template_rows": null,
            "height": null,
            "justify_content": null,
            "justify_items": null,
            "left": null,
            "margin": null,
            "max_height": null,
            "max_width": null,
            "min_height": null,
            "min_width": null,
            "object_fit": null,
            "object_position": null,
            "order": null,
            "overflow": null,
            "overflow_x": null,
            "overflow_y": null,
            "padding": null,
            "right": null,
            "top": null,
            "visibility": null,
            "width": null
          }
        },
        "f0dafaab6e954a2080c77fd69e435480": {
          "model_module": "@jupyter-widgets/controls",
          "model_name": "DescriptionStyleModel",
          "model_module_version": "1.5.0",
          "state": {
            "_model_module": "@jupyter-widgets/controls",
            "_model_module_version": "1.5.0",
            "_model_name": "DescriptionStyleModel",
            "_view_count": null,
            "_view_module": "@jupyter-widgets/base",
            "_view_module_version": "1.2.0",
            "_view_name": "StyleView",
            "description_width": ""
          }
        },
        "89f75473f36e42e6a3a47ebe11adc031": {
          "model_module": "@jupyter-widgets/base",
          "model_name": "LayoutModel",
          "model_module_version": "1.2.0",
          "state": {
            "_model_module": "@jupyter-widgets/base",
            "_model_module_version": "1.2.0",
            "_model_name": "LayoutModel",
            "_view_count": null,
            "_view_module": "@jupyter-widgets/base",
            "_view_module_version": "1.2.0",
            "_view_name": "LayoutView",
            "align_content": null,
            "align_items": null,
            "align_self": null,
            "border": null,
            "bottom": null,
            "display": null,
            "flex": null,
            "flex_flow": null,
            "grid_area": null,
            "grid_auto_columns": null,
            "grid_auto_flow": null,
            "grid_auto_rows": null,
            "grid_column": null,
            "grid_gap": null,
            "grid_row": null,
            "grid_template_areas": null,
            "grid_template_columns": null,
            "grid_template_rows": null,
            "height": null,
            "justify_content": null,
            "justify_items": null,
            "left": null,
            "margin": null,
            "max_height": null,
            "max_width": null,
            "min_height": null,
            "min_width": null,
            "object_fit": null,
            "object_position": null,
            "order": null,
            "overflow": null,
            "overflow_x": null,
            "overflow_y": null,
            "padding": null,
            "right": null,
            "top": null,
            "visibility": null,
            "width": null
          }
        },
        "5c9955a2af2a46fd9d0f85d76e733ae8": {
          "model_module": "@jupyter-widgets/controls",
          "model_name": "ProgressStyleModel",
          "model_module_version": "1.5.0",
          "state": {
            "_model_module": "@jupyter-widgets/controls",
            "_model_module_version": "1.5.0",
            "_model_name": "ProgressStyleModel",
            "_view_count": null,
            "_view_module": "@jupyter-widgets/base",
            "_view_module_version": "1.2.0",
            "_view_name": "StyleView",
            "bar_color": null,
            "description_width": ""
          }
        },
        "46874339cb604a62be80b727f635c2bd": {
          "model_module": "@jupyter-widgets/base",
          "model_name": "LayoutModel",
          "model_module_version": "1.2.0",
          "state": {
            "_model_module": "@jupyter-widgets/base",
            "_model_module_version": "1.2.0",
            "_model_name": "LayoutModel",
            "_view_count": null,
            "_view_module": "@jupyter-widgets/base",
            "_view_module_version": "1.2.0",
            "_view_name": "LayoutView",
            "align_content": null,
            "align_items": null,
            "align_self": null,
            "border": null,
            "bottom": null,
            "display": null,
            "flex": null,
            "flex_flow": null,
            "grid_area": null,
            "grid_auto_columns": null,
            "grid_auto_flow": null,
            "grid_auto_rows": null,
            "grid_column": null,
            "grid_gap": null,
            "grid_row": null,
            "grid_template_areas": null,
            "grid_template_columns": null,
            "grid_template_rows": null,
            "height": null,
            "justify_content": null,
            "justify_items": null,
            "left": null,
            "margin": null,
            "max_height": null,
            "max_width": null,
            "min_height": null,
            "min_width": null,
            "object_fit": null,
            "object_position": null,
            "order": null,
            "overflow": null,
            "overflow_x": null,
            "overflow_y": null,
            "padding": null,
            "right": null,
            "top": null,
            "visibility": null,
            "width": null
          }
        },
        "11fbcca5f7a147199497032f29851e87": {
          "model_module": "@jupyter-widgets/controls",
          "model_name": "DescriptionStyleModel",
          "model_module_version": "1.5.0",
          "state": {
            "_model_module": "@jupyter-widgets/controls",
            "_model_module_version": "1.5.0",
            "_model_name": "DescriptionStyleModel",
            "_view_count": null,
            "_view_module": "@jupyter-widgets/base",
            "_view_module_version": "1.2.0",
            "_view_name": "StyleView",
            "description_width": ""
          }
        }
      }
    }
  },
  "cells": [
    {
      "cell_type": "code",
      "source": [
        "!pip install stopwordsiso\n",
        "from stopwordsiso import stopwords\n",
        "!pip install stanza\n",
        "import stanza\n",
        "stanza.download('mr')"
      ],
      "metadata": {
        "id": "UQv7fyVnw1ND"
      },
      "execution_count": null,
      "outputs": []
    },
    {
      "cell_type": "code",
      "execution_count": null,
      "metadata": {
        "id": "d1HmC-OBv7uZ"
      },
      "outputs": [],
      "source": [
        "_final_output = []\n",
        "test = []\n",
        "def Preprocessing_for_Marathi_Language(marathi_text):\n",
        "  global test\n",
        "  #Removing Punctuations\n",
        "  punctuations = '''!()-[]{};:'\"\\, <>./?@#$%^&*_~'''\n",
        "  punctuation_removed_text = marathi_text\n",
        "  for ele in marathi_text:\n",
        "      if ele in punctuations:\n",
        "          punctuation_removed_text = punctuation_removed_text.replace(ele, \" \")\n",
        "\n",
        "  #print(\"Punctuation Removed Text: \",punctuation_removed_text)\n",
        "\n",
        "  #Tokenization\n",
        "  tokenized_text = punctuation_removed_text.split(\" \")\n",
        "  #print(len(tokenized_text))\n",
        "\n",
        "  #Removing Stopwords\n",
        "  stopwords_collection = stopwords('mr')\n",
        "  #print(stopwords('mr'))\n",
        "  #print(len(stopwords_collection))\n",
        "  stopwords_removed_text = []\n",
        "  for i in tokenized_text:\n",
        "      if i not in stopwords_collection:\n",
        "          stopwords_removed_text.append(i)\n",
        "\n",
        "  #Remove Spaces\n",
        "  final_text = []\n",
        "  for i in stopwords_removed_text:\n",
        "      if i != '':\n",
        "          final_text.append(i)\n",
        "  #print(final_text)\n",
        "  #Lemmatlization\n",
        "  nlp = stanza.Pipeline('mr') # This sets up a default neural pipeline in Marathi\n",
        "  #nlp = stanza.Pipeline(lang='mr', processors='tokenize,mwt,pos,lemma')\n",
        "  doc = nlp(marathi_text)\n",
        "  #print(*[f'word: {word.text+\" \"}\\tlemma: {word.lemma}' for sent in doc.sentences for word in sent.words], sep='\\n')\n",
        "  MainWord = []\n",
        "  RootWord = []\n",
        "  # Appending to MainWord\n",
        "  for sent in doc.sentences:\n",
        "      for word in sent.words:\n",
        "          MainWord.append(word.text)\n",
        "\n",
        "  # Appending to RootWord\n",
        "  for sent in doc.sentences:\n",
        "      for word in sent.words:\n",
        "          RootWord.append(word.lemma)\n",
        "\n",
        "  #Final Step\n",
        "  Final_List = final_text\n",
        "  k = 0\n",
        "  for i in Final_List:\n",
        "      m = 0\n",
        "      if i in MainWord:\n",
        "          for j in MainWord:\n",
        "              if j == i:\n",
        "                  Final_List[k] = RootWord[m]\n",
        "                  break\n",
        "              m = m + 1\n",
        "      k = k + 1\n",
        "\n",
        "  #Remove Blank Space\n",
        "  for a in Final_List:\n",
        "      if a == '':\n",
        "          Final_List.remove(a)\n",
        "  test = Final_List\n",
        "  print (\"test : \", test)\n",
        "  print(\"Final List: \",Final_List)\n",
        "  print(\"Length of final list: \",len(Final_List))"
      ]
    },
    {
      "cell_type": "code",
      "source": [
        "print (test)"
      ],
      "metadata": {
        "id": "3ZRK6wxxBAYN"
      },
      "execution_count": null,
      "outputs": []
    },
    {
      "cell_type": "code",
      "source": [
        "import pandas as pd"
      ],
      "metadata": {
        "id": "faKjuy-jy_Ia"
      },
      "execution_count": null,
      "outputs": []
    },
    {
      "cell_type": "code",
      "source": [
        "mData = pd.DataFrame(\n",
        "    {\n",
        "        \"label\": ['मी हा चित्रपट किमान 100 वेळा पाहिला आहे आणि मी अजूनही त्याबद्दल उत्साहित आहे, अभिनय परिपूर्ण आहे आणि जो आणि जीन यांच्यातील प्रणय मला माझ्या सीटच्या काठावर ठेवतो, तसेच मला अजूनही वाटते की ब्रायन ब्राउन शीर्षस्थानी आहे. चमकदार चित्रपट.','नमस्कार हा चित्रपट फक्त छान होता',\n",
        "'हा चित्रपट पाहिल्यानंतर माझा २ तास वाया गेला',\n",
        "'खूप वाईट चित्रपट',\n",
        "'अप्रतिम चित्रपट !! आवडलं',\n",
        "'चित्रपटाला मिळालेल्या श्रेयस पात्र होते',\n",
        "'खरच खूप छान चित्रपट होता',\n",
        "'जरूर पहा',\n",
        "'त्याला 5 तारे दिले पाहिजेत',\n",
        "'मस्त चित्रपट!!',\n",
        "'चांगला चित्रपट नाही',\n",
        "'चित्रपट नक्कीच फ्लॉप ठरला',\n",
        "'इतका वाईट चित्रपट पाहिला नाही',\n",
        "'या चित्रपटाचा तिरस्कार करा',\n",
        "'चित्रपट म्हणजे वेळ आणि पैसा वाया गेला',\n",
        "'चित्रपट अजिबात आवडला नाही'\n",
        "],\n",
        "        \"sent\": ['pos',\n",
        "'pos',\n",
        "'neg',\n",
        "'neg',\n",
        "'pos',\n",
        "'pos',\n",
        "'pos',\n",
        "'pos',\n",
        "'pos',\n",
        "'pos',\n",
        "'neg',\n",
        "'neg',\n",
        "'neg',\n",
        "'neg',\n",
        "'neg',\n",
        "'neg'\n",
        "],\n",
        "\"polarity\": ['1',\n",
        "'1',\n",
        "'-1',\n",
        "'-1',\n",
        "'1',\n",
        "'1',\n",
        "'1',\n",
        "'1',\n",
        "'1',\n",
        "'1',\n",
        "'-1',\n",
        "'-1',\n",
        "'-1',\n",
        "'-1',\n",
        "'-1',\n",
        "'-1'\n",
        "]\n",
        "    }\n",
        ")\n",
        "mData"
      ],
      "metadata": {
        "id": "OIjQaJb3zC2w"
      },
      "execution_count": null,
      "outputs": []
    },
    {
      "cell_type": "code",
      "source": [
        "pre_processed_data = []\n",
        "print(\"\\nIterating over rows using loc function :\\n\")\n",
        "# iterate through each row and select\n",
        "# 'Name' and 'Age' column respectively.\n",
        "for i in range(len(mData)):\n",
        "    print(mData.loc[i, \"label\"])\n",
        "    X = mData.loc[i, \"label\"]\n",
        "    Preprocessing_for_Marathi_Language(X)\n",
        "\n",
        "    pre_processed_data.append(test)\n",
        "\n",
        "\n",
        "mData[\"PRE_PROCESSED_DATA\"] = pre_processed_data  \n",
        "print(mData)"
      ],
      "metadata": {
        "id": "IUkAfT4TOF6r"
      },
      "execution_count": null,
      "outputs": []
    },
    {
      "cell_type": "code",
      "source": [
        "mData"
      ],
      "metadata": {
        "id": "DVocyz057VC3"
      },
      "execution_count": null,
      "outputs": []
    },
    {
      "cell_type": "code",
      "source": [
        "pos_words = ['उत्साहित',\n",
        "'उत्तेजित करणे',\n",
        "'परिपूर्ण',\n",
        "'तल्लख',\n",
        "'तेज',\n",
        "'महान',\n",
        "'चांगले',\n",
        "'सर्वोत्तम',\n",
        "'चांगले',\n",
        "'आश्चर्यकारक',\n",
        "'सारखे',\n",
        "'आवडले',\n",
        "'तारे',\n",
        "'अप्रतिम',\n",
        "'चांगला']\n",
        "\n",
        "neg_words = [\n",
        " 'वाया',\n",
        "'कचरा',\n",
        "'फ्लॉप',\n",
        "'वाईट',\n",
        "'सर्वात वाईट',\n",
        "'तिरस्कार',\n",
        "'द्वेष'\n",
        "]\n",
        "\n",
        "test3 = ['अप्रतिम','वाया']"
      ],
      "metadata": {
        "id": "eijC199UC59m"
      },
      "execution_count": 59,
      "outputs": []
    },
    {
      "cell_type": "code",
      "source": [
        "print(pos_words)\n",
        "print(neg_words)"
      ],
      "metadata": {
        "id": "_w87_2oDE201",
        "colab": {
          "base_uri": "https://localhost:8080/"
        },
        "outputId": "a7db73e3-f5a9-40b1-b3a2-f4f7a9a1c07b"
      },
      "execution_count": 55,
      "outputs": [
        {
          "output_type": "stream",
          "name": "stdout",
          "text": [
            "['उत्साहित', 'उत्तेजित करणे', 'परिपूर्ण', 'तल्लख', 'तेज', 'महान', 'चांगले', 'सर्वोत्तम', 'चांगले', 'आश्चर्यकारक', 'सारखे', 'आवडले', 'तारे', 'अप्रतिम']\n",
            "['वाया', 'कचरा', 'फ्लॉप', 'वाईट', 'सर्वात वाईट', 'तिरस्कार', 'द्वेष']\n"
          ]
        }
      ]
    },
    {
      "cell_type": "code",
      "source": [
        "A = input('Enter a marathi sentence to analyze its sentiment : ')\n",
        "print(A)\n",
        "Preprocessing_for_Marathi_Language(A)"
      ],
      "metadata": {
        "id": "YCwWczneG44V",
        "colab": {
          "base_uri": "https://localhost:8080/",
          "height": 576,
          "referenced_widgets": [
            "37f01a207674464e8e6361a0ad191f7e",
            "c8762f5f6cc940fea23ff562f186c941",
            "c2977116a363418c9f4342e488ea484b",
            "516f79674c0b4183b15effd6833a0b85",
            "c57e88efdde54afbbd2ec8c6e072ff3f",
            "6376849b7a154a4ca407d27bf041b943",
            "f0dafaab6e954a2080c77fd69e435480",
            "89f75473f36e42e6a3a47ebe11adc031",
            "5c9955a2af2a46fd9d0f85d76e733ae8",
            "46874339cb604a62be80b727f635c2bd",
            "11fbcca5f7a147199497032f29851e87"
          ]
        },
        "outputId": "ac0d406d-fdf7-45a6-865c-394ad628d24a"
      },
      "execution_count": 62,
      "outputs": [
        {
          "name": "stdout",
          "output_type": "stream",
          "text": [
            "Enter a marathi sentence to analyze its sentiment : खूप चांगला चित्रपट होता पण अभिनय खूपच वाईट होता\n"
          ]
        },
        {
          "output_type": "stream",
          "name": "stderr",
          "text": [
            "INFO:stanza:Checking for updates to resources.json in case models have been updated.  Note: this behavior can be turned off with download_method=None or download_method=DownloadMethod.REUSE_RESOURCES\n"
          ]
        },
        {
          "output_type": "stream",
          "name": "stdout",
          "text": [
            "खूप चांगला चित्रपट होता पण अभिनय खूपच वाईट होता\n"
          ]
        },
        {
          "output_type": "display_data",
          "data": {
            "text/plain": [
              "Downloading https://raw.githubusercontent.com/stanfordnlp/stanza-resources/main/resources_1.4.1.json:   0%|   …"
            ],
            "application/vnd.jupyter.widget-view+json": {
              "version_major": 2,
              "version_minor": 0,
              "model_id": "37f01a207674464e8e6361a0ad191f7e"
            }
          },
          "metadata": {}
        },
        {
          "output_type": "stream",
          "name": "stderr",
          "text": [
            "INFO:stanza:Loading these models for language: mr (Marathi):\n",
            "=======================\n",
            "| Processor | Package |\n",
            "-----------------------\n",
            "| tokenize  | ufal    |\n",
            "| mwt       | ufal    |\n",
            "| pos       | ufal    |\n",
            "| lemma     | ufal    |\n",
            "| depparse  | ufal    |\n",
            "| sentiment | l3cube  |\n",
            "| ner       | l3cube  |\n",
            "=======================\n",
            "\n",
            "INFO:stanza:Use device: cpu\n",
            "INFO:stanza:Loading: tokenize\n",
            "INFO:stanza:Loading: mwt\n",
            "INFO:stanza:Loading: pos\n",
            "INFO:stanza:Loading: lemma\n",
            "INFO:stanza:Loading: depparse\n",
            "INFO:stanza:Loading: sentiment\n",
            "INFO:stanza:Loading: ner\n",
            "INFO:stanza:Done loading processors!\n"
          ]
        },
        {
          "output_type": "stream",
          "name": "stdout",
          "text": [
            "test :  ['खूप', 'चांगला', 'चित्रपट', 'अभिनय', 'खूपच', 'वाईट']\n",
            "Final List:  ['खूप', 'चांगला', 'चित्रपट', 'अभिनय', 'खूपच', 'वाईट']\n",
            "Length of final list:  6\n"
          ]
        }
      ]
    },
    {
      "cell_type": "code",
      "source": [
        "test"
      ],
      "metadata": {
        "id": "GTtGtkB0LyRM",
        "colab": {
          "base_uri": "https://localhost:8080/"
        },
        "outputId": "30621682-b08a-4d6e-cde8-92eaae271bf9"
      },
      "execution_count": 63,
      "outputs": [
        {
          "output_type": "execute_result",
          "data": {
            "text/plain": [
              "['खूप', 'चांगला', 'चित्रपट', 'अभिनय', 'खूपच', 'वाईट']"
            ]
          },
          "metadata": {},
          "execution_count": 63
        }
      ]
    },
    {
      "cell_type": "code",
      "source": [
        "for x, y in [(x,y) for x in test for y in pos_words]:\n",
        "    if (x == y):\n",
        "      print(\"matched for pos\")\n",
        "      pos_count=+1\n",
        "      print(pos_count)\n",
        "for z, f in [(z,f) for z in test for f in neg_words]:\n",
        "    if (z == f):\n",
        "      print(\"matched for neg\")\n",
        "      neg_count=-1\n",
        "      print(neg_count)\n",
        "\n",
        "final_count = (pos_count+neg_count)\n",
        "print(final_count)"
      ],
      "metadata": {
        "colab": {
          "base_uri": "https://localhost:8080/"
        },
        "id": "CYaQ0-JqXLVi",
        "outputId": "00d54173-acdf-49a8-acaa-911d9293ab81"
      },
      "execution_count": 64,
      "outputs": [
        {
          "output_type": "stream",
          "name": "stdout",
          "text": [
            "matched for pos\n",
            "1\n",
            "matched for neg\n",
            "-1\n",
            "0\n"
          ]
        }
      ]
    },
    {
      "cell_type": "code",
      "source": [
        "if (final_count <= 0):\n",
        "  print(\"Movie prediction is : ✨✨✨(っ◔◡◔)っPOSITIVE✨✨✨\" )\n",
        "elif (final_count < 0):\n",
        "  print(\"MOVIE prediction is : 😡😡😡NEGATIVE😡😡😡\")"
      ],
      "metadata": {
        "colab": {
          "base_uri": "https://localhost:8080/"
        },
        "id": "3rkIRRq9aRGp",
        "outputId": "c53a9b51-9cb5-41f7-971a-83cc8e7597a1"
      },
      "execution_count": 68,
      "outputs": [
        {
          "output_type": "stream",
          "name": "stdout",
          "text": [
            "Movie prediction is : ✨✨✨(っ◔◡◔)っPOSITIVE✨✨✨\n"
          ]
        }
      ]
    }
  ]
}